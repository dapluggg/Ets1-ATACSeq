{
 "cells": [
  {
   "cell_type": "code",
   "execution_count": 7,
   "metadata": {},
   "outputs": [],
   "source": [
    "import pandas as pd\n",
    "import numpy as np"
   ]
  },
  {
   "cell_type": "code",
   "execution_count": 11,
   "metadata": {},
   "outputs": [
    {
     "name": "stdout",
     "output_type": "stream",
     "text": [
      "266.44064762546617\n",
      "129.0\n"
     ]
    }
   ],
   "source": [
    "premerge = pd.read_csv('/blue/m.pipkin/s.nagaraja/Tsuda_Ets1_MegaExp/merged/merged_peaks_sorted.bed', sep='\\t', header=None)\n",
    "avg_premerge = np.mean(premerge[2]-premerge[1])\n",
    "med_prepmerge = np.median(premerge[2]-premerge[1])\n",
    "print(avg_premerge)\n",
    "print(med_prepmerge)"
   ]
  },
  {
   "cell_type": "code",
   "execution_count": 12,
   "metadata": {},
   "outputs": [
    {
     "name": "stdout",
     "output_type": "stream",
     "text": [
      "148.01445901851113\n",
      "84.0\n"
     ]
    }
   ],
   "source": [
    "postmerge = pd.read_csv('/blue/m.pipkin/s.nagaraja/Tsuda_Ets1_MegaExp/merged/merged_peaks.bed', sep='\\t', header=None)\n",
    "avg_postmerge = np.mean(postmerge[2]-postmerge[1])\n",
    "med_postmerge = np.median(postmerge[2]-postmerge[1])\n",
    "print(avg_postmerge)\n",
    "print(med_postmerge)"
   ]
  }
 ],
 "metadata": {
  "kernelspec": {
   "display_name": "Python 3.9.7 ('base')",
   "language": "python",
   "name": "python3"
  },
  "language_info": {
   "codemirror_mode": {
    "name": "ipython",
    "version": 3
   },
   "file_extension": ".py",
   "mimetype": "text/x-python",
   "name": "python",
   "nbconvert_exporter": "python",
   "pygments_lexer": "ipython3",
   "version": "3.9.7"
  },
  "orig_nbformat": 4,
  "vscode": {
   "interpreter": {
    "hash": "a8fef24efbabebb53565aa55c048464d7d1c784f20671662eeda96b9f9613a29"
   }
  }
 },
 "nbformat": 4,
 "nbformat_minor": 2
}
