{
 "cells": [
  {
   "cell_type": "markdown",
   "metadata": {},
   "source": [
    "# Examining the role of Ets1 in programming chromatin accessibility in resident memory (Trm) cells\n",
    "#### Shanel Tsuda 2022\n",
    "\n",
    "This analysis contains data from 2 experiments done by ST, and publicly available datasets from:\n",
    "* shEts1 D5 in-vivo (Tsuda)\n",
    "* Ets1 KO in-vitro timecourse (Tsuda)\n",
    "* JJ Milner, Nature (2017)\n",
    "* D Wang, Immunity (2018)\n",
    "* JP Scott-Browne, Immunity (2016)\n",
    "\n",
    "Tsuda_MegaExp.txt contains locations and and sample metadata to all samples. compare_peaksets.py provides several functions for merging and comparing different ATAC-seq experiments. This is best used with the ATAC-seq pipeline available at: https://github.com/ScrippsPipkinLab/ATAC-seqPipeline.git"
   ]
  },
  {
   "cell_type": "code",
   "execution_count": 23,
   "metadata": {},
   "outputs": [
    {
     "name": "stdout",
     "output_type": "stream",
     "text": [
      "IMPORTED\n"
     ]
    }
   ],
   "source": [
    "import importlib\n",
    "import compare_peaksets\n",
    "importlib.reload(compare_peaksets)\n",
    "import pandas as pd"
   ]
  },
  {
   "cell_type": "code",
   "execution_count": 24,
   "metadata": {},
   "outputs": [
    {
     "name": "stdout",
     "output_type": "stream",
     "text": [
      "                          SampleName SampleName_inExp  \\\n",
      "0     WT_0h_Rep1_dlck_Ets1KO_invitro              WT1   \n",
      "1     WT_2h_Rep1_dlck_Ets1KO_invitro              WT2   \n",
      "2     WT_6h_Rep1_dlck_Ets1KO_invitro              WT3   \n",
      "3    WT_12h_Rep1_dlck_Ets1KO_invitro              WT4   \n",
      "4    WT_24h_Rep1_dlck_Ets1KO_invitro              WT5   \n",
      "..                               ...              ...   \n",
      "96                D32_SalivaryGland2       T8_D32_SG2   \n",
      "97                          D32_Fat1      T8_D32_Fat1   \n",
      "98                          D32_Fat2      T8_D32_Fat2   \n",
      "99                        D32_Liver1      T8_D32_Liv1   \n",
      "100                       D32_Liver2      T8_D32_Liv2   \n",
      "\n",
      "                                            path             Exp Endedness  \\\n",
      "0      /blue/m.pipkin/stsuda/ATAC_Ets1KO_invitro  Ets1KO_invitro        PE   \n",
      "1      /blue/m.pipkin/stsuda/ATAC_Ets1KO_invitro  Ets1KO_invitro        PE   \n",
      "2      /blue/m.pipkin/stsuda/ATAC_Ets1KO_invitro  Ets1KO_invitro        PE   \n",
      "3      /blue/m.pipkin/stsuda/ATAC_Ets1KO_invitro  Ets1KO_invitro        PE   \n",
      "4      /blue/m.pipkin/stsuda/ATAC_Ets1KO_invitro  Ets1KO_invitro        PE   \n",
      "..                                           ...             ...       ...   \n",
      "96   /blue/m.pipkin/s.nagaraja/Crowl_2022_Nature      Crowl_2032        SE   \n",
      "97   /blue/m.pipkin/s.nagaraja/Crowl_2022_Nature      Crowl_2033        SE   \n",
      "98   /blue/m.pipkin/s.nagaraja/Crowl_2022_Nature      Crowl_2034        SE   \n",
      "99   /blue/m.pipkin/s.nagaraja/Crowl_2022_Nature      Crowl_2035        SE   \n",
      "100  /blue/m.pipkin/s.nagaraja/Crowl_2022_Nature      Crowl_2036        SE   \n",
      "\n",
      "                    Status  \n",
      "0     WT_0h_Ets1KO_invitro  \n",
      "1     WT_2h_Ets1KO_invitro  \n",
      "2     WT_6h_Ets1KO_invitro  \n",
      "3    WT_12h_Ets1KO_invitro  \n",
      "4    WT_24h_Ets1KO_invitro  \n",
      "..                     ...  \n",
      "96       D32_SalivaryGland  \n",
      "97                 D32_Fat  \n",
      "98                 D32_Fat  \n",
      "99               D32_Liver  \n",
      "100              D32_Liver  \n",
      "\n",
      "[101 rows x 6 columns]\n"
     ]
    }
   ],
   "source": [
    "peaksets_meta = 'Tsuda_MegaExp.txt'\n",
    "print(pd.read_csv(peaksets_meta, sep='\\t'))"
   ]
  },
  {
   "cell_type": "code",
   "execution_count": 3,
   "metadata": {},
   "outputs": [
    {
     "name": "stderr",
     "output_type": "stream",
     "text": [
      "100%|██████████| 101/101 [00:22<00:00,  4.59it/s]"
     ]
    },
    {
     "name": "stdout",
     "output_type": "stream",
     "text": [
      "Submitted batch job 54082781\n"
     ]
    },
    {
     "name": "stderr",
     "output_type": "stream",
     "text": [
      "\n"
     ]
    }
   ],
   "source": [
    "compare_peaksets.merge(peaksets_meta)"
   ]
  },
  {
   "cell_type": "code",
   "execution_count": 4,
   "metadata": {},
   "outputs": [
    {
     "name": "stdout",
     "output_type": "stream",
     "text": [
      "Submitted batch job 54082842\n",
      "Submitted batch job 54082843\n",
      "Submitted batch job 54082844\n",
      "Submitted batch job 54082845\n",
      "Submitted batch job 54082846\n",
      "Submitted batch job 54082847\n",
      "Submitted batch job 54082848\n",
      "Submitted batch job 54082849\n",
      "Submitted batch job 54082850\n",
      "Submitted batch job 54082851\n",
      "Submitted batch job 54082852\n",
      "Submitted batch job 54082853\n",
      "Submitted batch job 54082854\n",
      "Submitted batch job 54082855\n",
      "Submitted batch job 54082856\n",
      "Submitted batch job 54082857\n",
      "Submitted batch job 54082858\n",
      "Submitted batch job 54082859\n",
      "Submitted batch job 54082860\n",
      "Submitted batch job 54082861\n",
      "Submitted batch job 54082862\n",
      "Submitted batch job 54082863\n",
      "Submitted batch job 54082864\n",
      "Submitted batch job 54082865\n",
      "Submitted batch job 54082866\n",
      "Submitted batch job 54082867\n",
      "Submitted batch job 54082868\n",
      "Submitted batch job 54082869\n",
      "Submitted batch job 54082870\n",
      "Submitted batch job 54082871\n",
      "Submitted batch job 54082872\n",
      "Submitted batch job 54082873\n",
      "Submitted batch job 54082874\n",
      "Submitted batch job 54082875\n",
      "Submitted batch job 54082876\n",
      "Submitted batch job 54082877\n",
      "Submitted batch job 54082878\n",
      "Submitted batch job 54082879\n",
      "Submitted batch job 54082880\n",
      "Submitted batch job 54082881\n",
      "Submitted batch job 54082882\n",
      "Submitted batch job 54082883\n",
      "Submitted batch job 54082884\n",
      "Submitted batch job 54082885\n",
      "Submitted batch job 54082886\n",
      "Submitted batch job 54082887\n",
      "Submitted batch job 54082888\n",
      "Submitted batch job 54082889\n",
      "Submitted batch job 54082890\n",
      "Submitted batch job 54082891\n",
      "Submitted batch job 54082892\n",
      "Submitted batch job 54082893\n",
      "Submitted batch job 54082894\n",
      "Submitted batch job 54082895\n",
      "Submitted batch job 54082896\n",
      "Submitted batch job 54082897\n",
      "Submitted batch job 54082898\n",
      "Submitted batch job 54082899\n",
      "Submitted batch job 54082900\n",
      "Submitted batch job 54082901\n",
      "Submitted batch job 54082902\n",
      "Submitted batch job 54082903\n",
      "Submitted batch job 54082904\n",
      "Submitted batch job 54082905\n",
      "Submitted batch job 54082906\n",
      "Submitted batch job 54082907\n",
      "Submitted batch job 54082908\n",
      "Submitted batch job 54082909\n",
      "Submitted batch job 54082910\n",
      "Submitted batch job 54082911\n",
      "Submitted batch job 54082912\n",
      "Submitted batch job 54082913\n",
      "Submitted batch job 54082914\n",
      "Submitted batch job 54082915\n",
      "Submitted batch job 54082916\n",
      "Submitted batch job 54082917\n",
      "Submitted batch job 54082918\n",
      "Submitted batch job 54082919\n",
      "Submitted batch job 54082920\n",
      "Submitted batch job 54082921\n",
      "Submitted batch job 54082922\n",
      "Submitted batch job 54082923\n",
      "Submitted batch job 54082924\n",
      "Submitted batch job 54082925\n",
      "Submitted batch job 54082926\n",
      "Submitted batch job 54082927\n",
      "Submitted batch job 54082928\n",
      "Submitted batch job 54082929\n",
      "Submitted batch job 54082930\n",
      "Submitted batch job 54082931\n",
      "Submitted batch job 54082932\n",
      "Submitted batch job 54082933\n",
      "Submitted batch job 54082934\n",
      "Submitted batch job 54082935\n",
      "Submitted batch job 54082936\n",
      "Submitted batch job 54082937\n",
      "Submitted batch job 54082938\n",
      "Submitted batch job 54082939\n",
      "Submitted batch job 54082940\n",
      "Submitted batch job 54082941\n",
      "Submitted batch job 54082942\n"
     ]
    }
   ],
   "source": [
    "compare_peaksets.replace_peaks(peaksets_meta)"
   ]
  },
  {
   "cell_type": "code",
   "execution_count": null,
   "metadata": {},
   "outputs": [],
   "source": [
    "compare_peaksets.draw_venn(peaksets_meta)"
   ]
  },
  {
   "cell_type": "code",
   "execution_count": 7,
   "metadata": {},
   "outputs": [],
   "source": [
    "compare_peaksets.bed2gtf('merged/merged_peaks.bed', 'merged/merged_peaks.gtf')"
   ]
  },
  {
   "cell_type": "markdown",
   "metadata": {},
   "source": [
    "We need to count reads separately for the paired-end and single-end samples. FeatureCounts will not recognize endedness and throws an error. "
   ]
  },
  {
   "cell_type": "code",
   "execution_count": 8,
   "metadata": {},
   "outputs": [
    {
     "name": "stdout",
     "output_type": "stream",
     "text": [
      "Submitted batch job 54083012\n",
      "Submitted batch job 54083013\n"
     ]
    }
   ],
   "source": [
    "compare_peaksets.count_reads('merged/merged_peaks.gtf', peaksets_meta, 'counts')"
   ]
  },
  {
   "cell_type": "markdown",
   "metadata": {},
   "source": [
    "Since the above step results in two separate count matrices (single/paired-end), we now have to concatenate them together. This is relatively simple to do since they do not need to be merged - they were counted w.r.t. the same GTF file so they should have the same rows (Name, Chr, Start, End, Strand, Length, Counts...)"
   ]
  },
  {
   "cell_type": "code",
   "execution_count": 9,
   "metadata": {},
   "outputs": [
    {
     "name": "stdout",
     "output_type": "stream",
     "text": [
      "1575588 /blue/m.pipkin/s.nagaraja/Tsuda_Ets1_MegaExp/counts/counts_SE.mtx\n",
      "1575588 /blue/m.pipkin/s.nagaraja/Tsuda_Ets1_MegaExp/counts/counts_PE.mtx\n",
      "============\n",
      "NW_023337853.1_9094_9286_+\tNW_023337853.1\t9094\t9286\t+\t193\t0\t0\t0\n",
      "NW_023337853.1_9328_9599_+\tNW_023337853.1\t9328\t9599\t+\t272\t0\t0\t0\n",
      "NW_023337853.1_13044_13442_+\tNW_023337853.1\t13044\t13442\t+\t399\t0\t0\t0\n",
      "NW_023337853.1_19228_19318_+\tNW_023337853.1\t19228\t19318\t+\t91\t0\t0\t0\n",
      "NW_023337853.1_19370_19646_+\tNW_023337853.1\t19370\t19646\t+\t277\t0\t0\t0\n",
      "NW_023337853.1_20276_20386_+\tNW_023337853.1\t20276\t20386\t+\t111\t0\t0\t0\n",
      "NW_023337853.1_26009_26386_+\tNW_023337853.1\t26009\t26386\t+\t378\t0\t0\t0\n",
      "NW_023337853.1_28318_28578_+\tNW_023337853.1\t28318\t28578\t+\t261\t0\t0\t0\n",
      "NW_023337853.1_28934_29019_+\tNW_023337853.1\t28934\t29019\t+\t86\t0\t0\t0\n",
      "NW_023337853.1_29905_31176_+\tNW_023337853.1\t29905\t31176\t+\t1272\t0\t0\t0\n",
      "============\n",
      "NW_023337853.1_9094_9286_+\tNW_023337853.1\t9094\t9286\t+\t193\t0\t0\t0\n",
      "NW_023337853.1_9328_9599_+\tNW_023337853.1\t9328\t9599\t+\t272\t0\t0\t0\n",
      "NW_023337853.1_13044_13442_+\tNW_023337853.1\t13044\t13442\t+\t399\t0\t0\t0\n",
      "NW_023337853.1_19228_19318_+\tNW_023337853.1\t19228\t19318\t+\t91\t0\t0\t0\n",
      "NW_023337853.1_19370_19646_+\tNW_023337853.1\t19370\t19646\t+\t277\t0\t0\t0\n",
      "NW_023337853.1_20276_20386_+\tNW_023337853.1\t20276\t20386\t+\t111\t0\t0\t0\n",
      "NW_023337853.1_26009_26386_+\tNW_023337853.1\t26009\t26386\t+\t378\t0\t0\t0\n",
      "NW_023337853.1_28318_28578_+\tNW_023337853.1\t28318\t28578\t+\t261\t0\t0\t0\n",
      "NW_023337853.1_28934_29019_+\tNW_023337853.1\t28934\t29019\t+\t86\t0\t0\t0\n",
      "NW_023337853.1_29905_31176_+\tNW_023337853.1\t29905\t31176\t+\t1272\t0\t0\t0\n"
     ]
    }
   ],
   "source": [
    "# Lets Double check\n",
    "! wc -l /blue/m.pipkin/s.nagaraja/Tsuda_Ets1_MegaExp/counts/counts_SE.mtx\n",
    "! wc -l /blue/m.pipkin/s.nagaraja/Tsuda_Ets1_MegaExp/counts/counts_PE.mtx\n",
    "! echo '============'\n",
    "! tail /blue/m.pipkin/s.nagaraja/Tsuda_Ets1_MegaExp/counts/counts_SE.mtx | cut -f 1,2,3,4,5,6,7,8,9\n",
    "! echo '============'\n",
    "! tail /blue/m.pipkin/s.nagaraja/Tsuda_Ets1_MegaExp/counts/counts_PE.mtx | cut -f 1,2,3,4,5,6,7,8,9"
   ]
  },
  {
   "cell_type": "code",
   "execution_count": null,
   "metadata": {},
   "outputs": [],
   "source": [
    "# Append the files together\n",
    "# Might want to run these in the terminal. Ipynb will excecute, but might crash the notebook.\n",
    "! cut -f 7- counts/counts_SE.mtx | paste -d \"\\t\" counts/counts_PE.mtx - > counts/counts.mtx\n",
    "! cut -f 2- counts/counts_SE.mtx.summary | paste -d \"\\t\" counts/counts_PE.mtx.summary - > counts/counts.mtx.summary"
   ]
  },
  {
   "cell_type": "code",
   "execution_count": 3,
   "metadata": {},
   "outputs": [
    {
     "name": "stdout",
     "output_type": "stream",
     "text": [
      "Submitting 10100 jobs.\n"
     ]
    },
    {
     "name": "stderr",
     "output_type": "stream",
     "text": [
      "100%|██████████| 10100/10100 [00:05<00:00, 1841.87it/s]\n"
     ]
    }
   ],
   "source": [
    "compare_peaksets.differential_peaks(peaksets_meta)"
   ]
  },
  {
   "cell_type": "code",
   "execution_count": null,
   "metadata": {},
   "outputs": [],
   "source": [
    "# Run this to actually submit the jobs.\n",
    "! for i in deseq2/*.sh; do sbatch $i; done"
   ]
  },
  {
   "cell_type": "code",
   "execution_count": 3,
   "metadata": {},
   "outputs": [
    {
     "name": "stderr",
     "output_type": "stream",
     "text": [
      "33it [01:46,  3.22s/it]\n"
     ]
    }
   ],
   "source": [
    "compare_peaksets.filter_up_down('deseq2_naive', [1,-1], 0.05)"
   ]
  },
  {
   "cell_type": "code",
   "execution_count": null,
   "metadata": {},
   "outputs": [],
   "source": [
    "compare_peaksets.venn_up_down('venn_up_down/')"
   ]
  },
  {
   "cell_type": "code",
   "execution_count": 13,
   "metadata": {},
   "outputs": [
    {
     "name": "stdout",
     "output_type": "stream",
     "text": [
      "-1.0000621968008\n",
      "-8.80550160255882\n"
     ]
    }
   ],
   "source": [
    "# Check log2FC due to bug I fixed\n",
    "import numpy as np\n",
    "tmp = pd.read_csv('/blue/m.pipkin/s.nagaraja/Tsuda_Ets1_MegaExp/venn_up_down/filtered/WT_0h_Ets1KO_invitro_vs_Runx3_KO_24h_Wang_2018_Immunity_down.csv')\n",
    "print(tmp.log2FoldChange.max())\n",
    "print(tmp.log2FoldChange.min())"
   ]
  },
  {
   "cell_type": "code",
   "execution_count": null,
   "metadata": {},
   "outputs": [],
   "source": [
    "compare_peaksets.find_motifs('venn_up_down/filtered', 'HOMER/motifs', 'given', '/blue/m.pipkin/s.nagaraja/MusRef/GCF_000001635.27_GRCm39_genomic.fna')"
   ]
  },
  {
   "cell_type": "code",
   "execution_count": 19,
   "metadata": {},
   "outputs": [
    {
     "name": "stdout",
     "output_type": "stream",
     "text": [
      "(1575586, 86)\n",
      "(86,)\n",
      "(1575586, 86)\n"
     ]
    }
   ],
   "source": [
    "compare_peaksets.counts_to_tpm('counts/counts.mtx')"
   ]
  },
  {
   "cell_type": "code",
   "execution_count": null,
   "metadata": {},
   "outputs": [],
   "source": [
    "compare_peaksets.annotate_logFC('deseq2', '/blue/m.pipkin/s.nagaraja/MusRef/Mouse39Genes.bed')"
   ]
  },
  {
   "cell_type": "code",
   "execution_count": null,
   "metadata": {},
   "outputs": [],
   "source": [
    "compare_peaksets.match_anno_to_logFC('deseq2', 'annotated_logFC/annotated_bed')"
   ]
  },
  {
   "cell_type": "code",
   "execution_count": 6,
   "metadata": {},
   "outputs": [
    {
     "name": "stderr",
     "output_type": "stream",
     "text": [
      "4it [00:00,  8.75it/s]"
     ]
    },
    {
     "name": "stdout",
     "output_type": "stream",
     "text": [
      "Submitted batch job 50853024\n",
      "Submitted batch job 50853025\n",
      "Submitted batch job 50853026\n",
      "Submitted batch job 50853027\n"
     ]
    },
    {
     "name": "stderr",
     "output_type": "stream",
     "text": [
      "8it [00:00, 11.90it/s]"
     ]
    },
    {
     "name": "stdout",
     "output_type": "stream",
     "text": [
      "Submitted batch job 50853028\n",
      "Submitted batch job 50853029\n",
      "Submitted batch job 50853030\n",
      "Submitted batch job 50853031\n"
     ]
    },
    {
     "name": "stderr",
     "output_type": "stream",
     "text": [
      "10it [00:01,  5.46it/s]"
     ]
    },
    {
     "name": "stdout",
     "output_type": "stream",
     "text": [
      "Submitted batch job 50853032\n",
      "Submitted batch job 50853033\n"
     ]
    },
    {
     "name": "stderr",
     "output_type": "stream",
     "text": [
      "\n"
     ]
    }
   ],
   "source": [
    "compare_peaksets.intersection_motifs('venn_intersections', 'venn_intersections/HOMER/motifs/', 99000, \n",
    "                                     '/blue/m.pipkin/s.nagaraja/MusRef/GCF_000001635.27_GRCm39_genomic.fna',\n",
    "                                     100000, '/home/s.nagaraja/ATAC-seqPipeline/core/GCF_000001635.27_GRCm39_genomic.size')"
   ]
  },
  {
   "cell_type": "code",
   "execution_count": null,
   "metadata": {},
   "outputs": [],
   "source": [
    "compare_peaksets.intersection_motifs('venn_intersections', 'venn_intersections/HOMER/motifs/', 'given', \n",
    "                                     '/blue/m.pipkin/s.nagaraja/MusRef/GCF_000001635.27_GRCm39_genomic.fna')"
   ]
  },
  {
   "cell_type": "code",
   "execution_count": 5,
   "metadata": {},
   "outputs": [
    {
     "name": "stdout",
     "output_type": "stream",
     "text": [
      "Submitted batch job 55201144\n"
     ]
    }
   ],
   "source": [
    "compare_peaksets.annotate_genes_near_peaks('/blue/m.pipkin/s.nagaraja/Tsuda_MegaExp_v2/merged/merged_peaks_sorted.bed',\n",
    "                                           '/home/s.nagaraja/ATAC-seqPipeline/core/GCF_000001635.27_GRCm39_genomic.size',\n",
    "                                           '/blue/m.pipkin/s.nagaraja/MusRef/GCF_000001635.27_GRCm39_genomic.gtf',\n",
    "                                           'genes_100kb_up_down.bed')"
   ]
  },
  {
   "cell_type": "code",
   "execution_count": 25,
   "metadata": {},
   "outputs": [
    {
     "name": "stderr",
     "output_type": "stream",
     "text": [
      "2it [00:00, 17.58it/s]"
     ]
    },
    {
     "name": "stdout",
     "output_type": "stream",
     "text": [
      "Submitted batch job 55930211\n",
      "Submitted batch job 55930212\n"
     ]
    },
    {
     "name": "stderr",
     "output_type": "stream",
     "text": [
      "4it [00:00,  8.72it/s]"
     ]
    },
    {
     "name": "stdout",
     "output_type": "stream",
     "text": [
      "Submitted batch job 55930213\n",
      "Submitted batch job 55930214\n"
     ]
    },
    {
     "name": "stderr",
     "output_type": "stream",
     "text": [
      "6it [00:00,  7.55it/s]"
     ]
    },
    {
     "name": "stdout",
     "output_type": "stream",
     "text": [
      "Submitted batch job 55930215\n",
      "Submitted batch job 55930216\n"
     ]
    },
    {
     "name": "stderr",
     "output_type": "stream",
     "text": [
      "7it [00:00,  6.39it/s]"
     ]
    },
    {
     "name": "stdout",
     "output_type": "stream",
     "text": [
      "Submitted batch job 55930217\n"
     ]
    },
    {
     "name": "stderr",
     "output_type": "stream",
     "text": [
      "10it [00:01,  6.55it/s]"
     ]
    },
    {
     "name": "stdout",
     "output_type": "stream",
     "text": [
      "Submitted batch job 55930218\n",
      "Submitted batch job 55930219\n",
      "Submitted batch job 55930220\n"
     ]
    },
    {
     "name": "stderr",
     "output_type": "stream",
     "text": [
      "11it [00:01,  6.53it/s]"
     ]
    },
    {
     "name": "stdout",
     "output_type": "stream",
     "text": [
      "Submitted batch job 55930221\n"
     ]
    },
    {
     "name": "stderr",
     "output_type": "stream",
     "text": [
      "12it [00:02,  2.83it/s]"
     ]
    },
    {
     "name": "stdout",
     "output_type": "stream",
     "text": [
      "Submitted batch job 55930222\n",
      "Submitted batch job 55930223\n"
     ]
    },
    {
     "name": "stderr",
     "output_type": "stream",
     "text": [
      "15it [00:03,  3.69it/s]"
     ]
    },
    {
     "name": "stdout",
     "output_type": "stream",
     "text": [
      "Submitted batch job 55930224\n",
      "Submitted batch job 55930225\n"
     ]
    },
    {
     "name": "stderr",
     "output_type": "stream",
     "text": [
      "16it [00:03,  3.75it/s]"
     ]
    },
    {
     "name": "stdout",
     "output_type": "stream",
     "text": [
      "Submitted batch job 55930226\n"
     ]
    },
    {
     "name": "stderr",
     "output_type": "stream",
     "text": [
      "17it [00:03,  3.02it/s]"
     ]
    },
    {
     "name": "stdout",
     "output_type": "stream",
     "text": [
      "Submitted batch job 55930227\n"
     ]
    },
    {
     "name": "stderr",
     "output_type": "stream",
     "text": [
      "18it [00:04,  2.16it/s]"
     ]
    },
    {
     "name": "stdout",
     "output_type": "stream",
     "text": [
      "Submitted batch job 55930228\n"
     ]
    },
    {
     "name": "stderr",
     "output_type": "stream",
     "text": [
      "19it [00:05,  1.51it/s]"
     ]
    },
    {
     "name": "stdout",
     "output_type": "stream",
     "text": [
      "Submitted batch job 55930229\n"
     ]
    },
    {
     "name": "stderr",
     "output_type": "stream",
     "text": [
      "21it [00:06,  2.08it/s]"
     ]
    },
    {
     "name": "stdout",
     "output_type": "stream",
     "text": [
      "Submitted batch job 55930230\n",
      "Submitted batch job 55930231\n"
     ]
    },
    {
     "name": "stderr",
     "output_type": "stream",
     "text": [
      "23it [00:07,  2.74it/s]"
     ]
    },
    {
     "name": "stdout",
     "output_type": "stream",
     "text": [
      "Submitted batch job 55930232\n",
      "Submitted batch job 55930233\n"
     ]
    },
    {
     "name": "stderr",
     "output_type": "stream",
     "text": [
      "24it [00:07,  3.28it/s]"
     ]
    },
    {
     "name": "stdout",
     "output_type": "stream",
     "text": [
      "Submitted batch job 55930234\n"
     ]
    },
    {
     "name": "stderr",
     "output_type": "stream",
     "text": [
      "\n"
     ]
    }
   ],
   "source": [
    "# Running HOMER of a subset of peaks \n",
    "# Shanel wanted me to run this on 1-26-23\n",
    "compare_peaksets.find_motifs('/blue/m.pipkin/s.nagaraja/Tsuda_MegaExp_v2/HOMER_ST', 'HOMER/motifs', 'given', '/blue/m.pipkin/s.nagaraja/MusRef/GCF_000001635.27_GRCm39_genomic.fna')"
   ]
  }
 ],
 "metadata": {
  "kernelspec": {
   "display_name": "base",
   "language": "python",
   "name": "python3"
  },
  "language_info": {
   "codemirror_mode": {
    "name": "ipython",
    "version": 3
   },
   "file_extension": ".py",
   "mimetype": "text/x-python",
   "name": "python",
   "nbconvert_exporter": "python",
   "pygments_lexer": "ipython3",
   "version": "3.9.7"
  },
  "orig_nbformat": 4,
  "vscode": {
   "interpreter": {
    "hash": "a8fef24efbabebb53565aa55c048464d7d1c784f20671662eeda96b9f9613a29"
   }
  }
 },
 "nbformat": 4,
 "nbformat_minor": 2
}
